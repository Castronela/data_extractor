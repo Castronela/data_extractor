{
 "cells": [
  {
   "cell_type": "code",
   "execution_count": 1,
   "id": "4537368d",
   "metadata": {},
   "outputs": [],
   "source": [
    "import pandas as pd\n",
    "from datetime import datetime"
   ]
  },
  {
   "cell_type": "markdown",
   "id": "aed9697d",
   "metadata": {},
   "source": [
    "Import weather data"
   ]
  },
  {
   "cell_type": "code",
   "execution_count": 25,
   "id": "9810bc83",
   "metadata": {},
   "outputs": [
    {
     "data": {
      "text/html": [
       "<div>\n",
       "<style scoped>\n",
       "    .dataframe tbody tr th:only-of-type {\n",
       "        vertical-align: middle;\n",
       "    }\n",
       "\n",
       "    .dataframe tbody tr th {\n",
       "        vertical-align: top;\n",
       "    }\n",
       "\n",
       "    .dataframe thead th {\n",
       "        text-align: right;\n",
       "    }\n",
       "</style>\n",
       "<table border=\"1\" class=\"dataframe\">\n",
       "  <thead>\n",
       "    <tr style=\"text-align: right;\">\n",
       "      <th></th>\n",
       "      <th>Unnamed: 0</th>\n",
       "      <th>latitude</th>\n",
       "      <th>longitude</th>\n",
       "      <th>generationtime_ms</th>\n",
       "      <th>utc_offset_seconds</th>\n",
       "      <th>timezone</th>\n",
       "      <th>timezone_abbreviation</th>\n",
       "      <th>elevation</th>\n",
       "      <th>hourly_units</th>\n",
       "      <th>hourly</th>\n",
       "    </tr>\n",
       "  </thead>\n",
       "  <tbody>\n",
       "    <tr>\n",
       "      <th>0</th>\n",
       "      <td>time</td>\n",
       "      <td>52.52</td>\n",
       "      <td>13.419998</td>\n",
       "      <td>0.038862</td>\n",
       "      <td>0</td>\n",
       "      <td>GMT</td>\n",
       "      <td>GMT</td>\n",
       "      <td>38.0</td>\n",
       "      <td>iso8601</td>\n",
       "      <td>['2025-08-16T00:00', '2025-08-16T01:00', '2025...</td>\n",
       "    </tr>\n",
       "    <tr>\n",
       "      <th>1</th>\n",
       "      <td>temperature_2m</td>\n",
       "      <td>52.52</td>\n",
       "      <td>13.419998</td>\n",
       "      <td>0.038862</td>\n",
       "      <td>0</td>\n",
       "      <td>GMT</td>\n",
       "      <td>GMT</td>\n",
       "      <td>38.0</td>\n",
       "      <td>°C</td>\n",
       "      <td>[21.6, 20.7, 19.9, 19.1, 18.5, 18.6, 18.9, 19....</td>\n",
       "    </tr>\n",
       "  </tbody>\n",
       "</table>\n",
       "</div>"
      ],
      "text/plain": [
       "       Unnamed: 0  latitude  longitude  generationtime_ms  utc_offset_seconds  \\\n",
       "0            time     52.52  13.419998           0.038862                   0   \n",
       "1  temperature_2m     52.52  13.419998           0.038862                   0   \n",
       "\n",
       "  timezone timezone_abbreviation  elevation hourly_units  \\\n",
       "0      GMT                   GMT       38.0      iso8601   \n",
       "1      GMT                   GMT       38.0           °C   \n",
       "\n",
       "                                              hourly  \n",
       "0  ['2025-08-16T00:00', '2025-08-16T01:00', '2025...  \n",
       "1  [21.6, 20.7, 19.9, 19.1, 18.5, 18.6, 18.9, 19....  "
      ]
     },
     "execution_count": 25,
     "metadata": {},
     "output_type": "execute_result"
    }
   ],
   "source": [
    "file = f\"../data/raw/weather_{datetime.today().strftime('%Y%m%d')}.csv\"\n",
    "modified_df = pd.read_csv(file)\n",
    "original_df = modified_df.copy()\n",
    "modified_df"
   ]
  },
  {
   "cell_type": "markdown",
   "id": "20b92e5a",
   "metadata": {},
   "source": [
    "Extract hourly values"
   ]
  },
  {
   "cell_type": "code",
   "execution_count": 26,
   "id": "7c3b4857",
   "metadata": {},
   "outputs": [
    {
     "data": {
      "text/html": [
       "<div>\n",
       "<style scoped>\n",
       "    .dataframe tbody tr th:only-of-type {\n",
       "        vertical-align: middle;\n",
       "    }\n",
       "\n",
       "    .dataframe tbody tr th {\n",
       "        vertical-align: top;\n",
       "    }\n",
       "\n",
       "    .dataframe thead th {\n",
       "        text-align: right;\n",
       "    }\n",
       "</style>\n",
       "<table border=\"1\" class=\"dataframe\">\n",
       "  <thead>\n",
       "    <tr style=\"text-align: right;\">\n",
       "      <th></th>\n",
       "      <th>hourly</th>\n",
       "    </tr>\n",
       "  </thead>\n",
       "  <tbody>\n",
       "    <tr>\n",
       "      <th>0</th>\n",
       "      <td>['2025-08-16T00:00', '2025-08-16T01:00', '2025...</td>\n",
       "    </tr>\n",
       "    <tr>\n",
       "      <th>1</th>\n",
       "      <td>[21.6, 20.7, 19.9, 19.1, 18.5, 18.6, 18.9, 19....</td>\n",
       "    </tr>\n",
       "  </tbody>\n",
       "</table>\n",
       "</div>"
      ],
      "text/plain": [
       "                                              hourly\n",
       "0  ['2025-08-16T00:00', '2025-08-16T01:00', '2025...\n",
       "1  [21.6, 20.7, 19.9, 19.1, 18.5, 18.6, 18.9, 19...."
      ]
     },
     "execution_count": 26,
     "metadata": {},
     "output_type": "execute_result"
    }
   ],
   "source": [
    "hourly_df = modified_df['hourly'].to_frame()\n",
    "hourly_df"
   ]
  },
  {
   "cell_type": "markdown",
   "id": "62db556e",
   "metadata": {},
   "source": [
    "Evaluate values, from string to list data type"
   ]
  },
  {
   "cell_type": "code",
   "execution_count": null,
   "id": "8430f44b",
   "metadata": {},
   "outputs": [
    {
     "data": {
      "text/plain": [
       "hourly    object\n",
       "dtype: object"
      ]
     },
     "execution_count": 27,
     "metadata": {},
     "output_type": "execute_result"
    }
   ],
   "source": [
    "hourly_df['hourly'] = hourly_df['hourly'].apply(eval)\n",
    "hourly_df"
   ]
  },
  {
   "cell_type": "markdown",
   "id": "26ff575e",
   "metadata": {},
   "source": [
    "Switch columns with rows"
   ]
  },
  {
   "cell_type": "code",
   "execution_count": 13,
   "id": "2e57bf1d",
   "metadata": {},
   "outputs": [
    {
     "data": {
      "text/html": [
       "<div>\n",
       "<style scoped>\n",
       "    .dataframe tbody tr th:only-of-type {\n",
       "        vertical-align: middle;\n",
       "    }\n",
       "\n",
       "    .dataframe tbody tr th {\n",
       "        vertical-align: top;\n",
       "    }\n",
       "\n",
       "    .dataframe thead th {\n",
       "        text-align: right;\n",
       "    }\n",
       "</style>\n",
       "<table border=\"1\" class=\"dataframe\">\n",
       "  <thead>\n",
       "    <tr style=\"text-align: right;\">\n",
       "      <th></th>\n",
       "      <th>0</th>\n",
       "      <th>1</th>\n",
       "    </tr>\n",
       "  </thead>\n",
       "  <tbody>\n",
       "    <tr>\n",
       "      <th>hourly</th>\n",
       "      <td>[2025-08-16T00:00, 2025-08-16T01:00, 2025-08-1...</td>\n",
       "      <td>[21.6, 20.7, 19.9, 19.1, 18.5, 18.6, 18.9, 19....</td>\n",
       "    </tr>\n",
       "  </tbody>\n",
       "</table>\n",
       "</div>"
      ],
      "text/plain": [
       "                                                        0  \\\n",
       "hourly  [2025-08-16T00:00, 2025-08-16T01:00, 2025-08-1...   \n",
       "\n",
       "                                                        1  \n",
       "hourly  [21.6, 20.7, 19.9, 19.1, 18.5, 18.6, 18.9, 19....  "
      ]
     },
     "execution_count": 13,
     "metadata": {},
     "output_type": "execute_result"
    }
   ],
   "source": [
    "transposed_df = hourly_df.transpose()\n",
    "transposed_df"
   ]
  },
  {
   "cell_type": "markdown",
   "id": "ab3bb82c",
   "metadata": {},
   "source": [
    "Put each item from lists on separate row"
   ]
  },
  {
   "cell_type": "code",
   "execution_count": 14,
   "id": "53ecc0ce",
   "metadata": {},
   "outputs": [
    {
     "data": {
      "text/html": [
       "<div>\n",
       "<style scoped>\n",
       "    .dataframe tbody tr th:only-of-type {\n",
       "        vertical-align: middle;\n",
       "    }\n",
       "\n",
       "    .dataframe tbody tr th {\n",
       "        vertical-align: top;\n",
       "    }\n",
       "\n",
       "    .dataframe thead th {\n",
       "        text-align: right;\n",
       "    }\n",
       "</style>\n",
       "<table border=\"1\" class=\"dataframe\">\n",
       "  <thead>\n",
       "    <tr style=\"text-align: right;\">\n",
       "      <th></th>\n",
       "      <th>0</th>\n",
       "      <th>1</th>\n",
       "    </tr>\n",
       "  </thead>\n",
       "  <tbody>\n",
       "    <tr>\n",
       "      <th>hourly</th>\n",
       "      <td>2025-08-16T00:00</td>\n",
       "      <td>21.6</td>\n",
       "    </tr>\n",
       "    <tr>\n",
       "      <th>hourly</th>\n",
       "      <td>2025-08-16T01:00</td>\n",
       "      <td>20.7</td>\n",
       "    </tr>\n",
       "    <tr>\n",
       "      <th>hourly</th>\n",
       "      <td>2025-08-16T02:00</td>\n",
       "      <td>19.9</td>\n",
       "    </tr>\n",
       "    <tr>\n",
       "      <th>hourly</th>\n",
       "      <td>2025-08-16T03:00</td>\n",
       "      <td>19.1</td>\n",
       "    </tr>\n",
       "    <tr>\n",
       "      <th>hourly</th>\n",
       "      <td>2025-08-16T04:00</td>\n",
       "      <td>18.5</td>\n",
       "    </tr>\n",
       "    <tr>\n",
       "      <th>...</th>\n",
       "      <td>...</td>\n",
       "      <td>...</td>\n",
       "    </tr>\n",
       "    <tr>\n",
       "      <th>hourly</th>\n",
       "      <td>2025-08-22T19:00</td>\n",
       "      <td>17.9</td>\n",
       "    </tr>\n",
       "    <tr>\n",
       "      <th>hourly</th>\n",
       "      <td>2025-08-22T20:00</td>\n",
       "      <td>16.8</td>\n",
       "    </tr>\n",
       "    <tr>\n",
       "      <th>hourly</th>\n",
       "      <td>2025-08-22T21:00</td>\n",
       "      <td>15.8</td>\n",
       "    </tr>\n",
       "    <tr>\n",
       "      <th>hourly</th>\n",
       "      <td>2025-08-22T22:00</td>\n",
       "      <td>15.0</td>\n",
       "    </tr>\n",
       "    <tr>\n",
       "      <th>hourly</th>\n",
       "      <td>2025-08-22T23:00</td>\n",
       "      <td>14.3</td>\n",
       "    </tr>\n",
       "  </tbody>\n",
       "</table>\n",
       "<p>168 rows × 2 columns</p>\n",
       "</div>"
      ],
      "text/plain": [
       "                       0     1\n",
       "hourly  2025-08-16T00:00  21.6\n",
       "hourly  2025-08-16T01:00  20.7\n",
       "hourly  2025-08-16T02:00  19.9\n",
       "hourly  2025-08-16T03:00  19.1\n",
       "hourly  2025-08-16T04:00  18.5\n",
       "...                  ...   ...\n",
       "hourly  2025-08-22T19:00  17.9\n",
       "hourly  2025-08-22T20:00  16.8\n",
       "hourly  2025-08-22T21:00  15.8\n",
       "hourly  2025-08-22T22:00  15.0\n",
       "hourly  2025-08-22T23:00  14.3\n",
       "\n",
       "[168 rows x 2 columns]"
      ]
     },
     "execution_count": 14,
     "metadata": {},
     "output_type": "execute_result"
    }
   ],
   "source": [
    "exploded_df = transposed_df.explode(transposed_df.columns.to_list())\n",
    "exploded_df"
   ]
  },
  {
   "cell_type": "markdown",
   "id": "04bb32c5",
   "metadata": {},
   "source": [
    "Remove and reset index"
   ]
  },
  {
   "cell_type": "code",
   "execution_count": 15,
   "id": "65d82d9a",
   "metadata": {},
   "outputs": [
    {
     "data": {
      "text/html": [
       "<div>\n",
       "<style scoped>\n",
       "    .dataframe tbody tr th:only-of-type {\n",
       "        vertical-align: middle;\n",
       "    }\n",
       "\n",
       "    .dataframe tbody tr th {\n",
       "        vertical-align: top;\n",
       "    }\n",
       "\n",
       "    .dataframe thead th {\n",
       "        text-align: right;\n",
       "    }\n",
       "</style>\n",
       "<table border=\"1\" class=\"dataframe\">\n",
       "  <thead>\n",
       "    <tr style=\"text-align: right;\">\n",
       "      <th></th>\n",
       "      <th>0</th>\n",
       "      <th>1</th>\n",
       "    </tr>\n",
       "  </thead>\n",
       "  <tbody>\n",
       "    <tr>\n",
       "      <th>0</th>\n",
       "      <td>2025-08-16T00:00</td>\n",
       "      <td>21.6</td>\n",
       "    </tr>\n",
       "    <tr>\n",
       "      <th>1</th>\n",
       "      <td>2025-08-16T01:00</td>\n",
       "      <td>20.7</td>\n",
       "    </tr>\n",
       "    <tr>\n",
       "      <th>2</th>\n",
       "      <td>2025-08-16T02:00</td>\n",
       "      <td>19.9</td>\n",
       "    </tr>\n",
       "    <tr>\n",
       "      <th>3</th>\n",
       "      <td>2025-08-16T03:00</td>\n",
       "      <td>19.1</td>\n",
       "    </tr>\n",
       "    <tr>\n",
       "      <th>4</th>\n",
       "      <td>2025-08-16T04:00</td>\n",
       "      <td>18.5</td>\n",
       "    </tr>\n",
       "    <tr>\n",
       "      <th>...</th>\n",
       "      <td>...</td>\n",
       "      <td>...</td>\n",
       "    </tr>\n",
       "    <tr>\n",
       "      <th>163</th>\n",
       "      <td>2025-08-22T19:00</td>\n",
       "      <td>17.9</td>\n",
       "    </tr>\n",
       "    <tr>\n",
       "      <th>164</th>\n",
       "      <td>2025-08-22T20:00</td>\n",
       "      <td>16.8</td>\n",
       "    </tr>\n",
       "    <tr>\n",
       "      <th>165</th>\n",
       "      <td>2025-08-22T21:00</td>\n",
       "      <td>15.8</td>\n",
       "    </tr>\n",
       "    <tr>\n",
       "      <th>166</th>\n",
       "      <td>2025-08-22T22:00</td>\n",
       "      <td>15.0</td>\n",
       "    </tr>\n",
       "    <tr>\n",
       "      <th>167</th>\n",
       "      <td>2025-08-22T23:00</td>\n",
       "      <td>14.3</td>\n",
       "    </tr>\n",
       "  </tbody>\n",
       "</table>\n",
       "<p>168 rows × 2 columns</p>\n",
       "</div>"
      ],
      "text/plain": [
       "                    0     1\n",
       "0    2025-08-16T00:00  21.6\n",
       "1    2025-08-16T01:00  20.7\n",
       "2    2025-08-16T02:00  19.9\n",
       "3    2025-08-16T03:00  19.1\n",
       "4    2025-08-16T04:00  18.5\n",
       "..                ...   ...\n",
       "163  2025-08-22T19:00  17.9\n",
       "164  2025-08-22T20:00  16.8\n",
       "165  2025-08-22T21:00  15.8\n",
       "166  2025-08-22T22:00  15.0\n",
       "167  2025-08-22T23:00  14.3\n",
       "\n",
       "[168 rows x 2 columns]"
      ]
     },
     "execution_count": 15,
     "metadata": {},
     "output_type": "execute_result"
    }
   ],
   "source": [
    "index_reset_df = exploded_df.reset_index(drop=True)\n",
    "index_reset_df"
   ]
  },
  {
   "cell_type": "markdown",
   "id": "14d625c9",
   "metadata": {},
   "source": [
    "Rename columns and add units"
   ]
  },
  {
   "cell_type": "code",
   "execution_count": 29,
   "id": "6408d46d",
   "metadata": {},
   "outputs": [
    {
     "data": {
      "text/html": [
       "<div>\n",
       "<style scoped>\n",
       "    .dataframe tbody tr th:only-of-type {\n",
       "        vertical-align: middle;\n",
       "    }\n",
       "\n",
       "    .dataframe tbody tr th {\n",
       "        vertical-align: top;\n",
       "    }\n",
       "\n",
       "    .dataframe thead th {\n",
       "        text-align: right;\n",
       "    }\n",
       "</style>\n",
       "<table border=\"1\" class=\"dataframe\">\n",
       "  <thead>\n",
       "    <tr style=\"text-align: right;\">\n",
       "      <th></th>\n",
       "      <th>time (iso8601)</th>\n",
       "      <th>temperature_2m (°C)</th>\n",
       "    </tr>\n",
       "  </thead>\n",
       "  <tbody>\n",
       "    <tr>\n",
       "      <th>0</th>\n",
       "      <td>2025-08-16T00:00</td>\n",
       "      <td>21.6</td>\n",
       "    </tr>\n",
       "    <tr>\n",
       "      <th>1</th>\n",
       "      <td>2025-08-16T01:00</td>\n",
       "      <td>20.7</td>\n",
       "    </tr>\n",
       "    <tr>\n",
       "      <th>2</th>\n",
       "      <td>2025-08-16T02:00</td>\n",
       "      <td>19.9</td>\n",
       "    </tr>\n",
       "    <tr>\n",
       "      <th>3</th>\n",
       "      <td>2025-08-16T03:00</td>\n",
       "      <td>19.1</td>\n",
       "    </tr>\n",
       "    <tr>\n",
       "      <th>4</th>\n",
       "      <td>2025-08-16T04:00</td>\n",
       "      <td>18.5</td>\n",
       "    </tr>\n",
       "    <tr>\n",
       "      <th>...</th>\n",
       "      <td>...</td>\n",
       "      <td>...</td>\n",
       "    </tr>\n",
       "    <tr>\n",
       "      <th>163</th>\n",
       "      <td>2025-08-22T19:00</td>\n",
       "      <td>17.9</td>\n",
       "    </tr>\n",
       "    <tr>\n",
       "      <th>164</th>\n",
       "      <td>2025-08-22T20:00</td>\n",
       "      <td>16.8</td>\n",
       "    </tr>\n",
       "    <tr>\n",
       "      <th>165</th>\n",
       "      <td>2025-08-22T21:00</td>\n",
       "      <td>15.8</td>\n",
       "    </tr>\n",
       "    <tr>\n",
       "      <th>166</th>\n",
       "      <td>2025-08-22T22:00</td>\n",
       "      <td>15.0</td>\n",
       "    </tr>\n",
       "    <tr>\n",
       "      <th>167</th>\n",
       "      <td>2025-08-22T23:00</td>\n",
       "      <td>14.3</td>\n",
       "    </tr>\n",
       "  </tbody>\n",
       "</table>\n",
       "<p>168 rows × 2 columns</p>\n",
       "</div>"
      ],
      "text/plain": [
       "       time (iso8601) temperature_2m (°C)\n",
       "0    2025-08-16T00:00                21.6\n",
       "1    2025-08-16T01:00                20.7\n",
       "2    2025-08-16T02:00                19.9\n",
       "3    2025-08-16T03:00                19.1\n",
       "4    2025-08-16T04:00                18.5\n",
       "..                ...                 ...\n",
       "163  2025-08-22T19:00                17.9\n",
       "164  2025-08-22T20:00                16.8\n",
       "165  2025-08-22T21:00                15.8\n",
       "166  2025-08-22T22:00                15.0\n",
       "167  2025-08-22T23:00                14.3\n",
       "\n",
       "[168 rows x 2 columns]"
      ]
     },
     "execution_count": 29,
     "metadata": {},
     "output_type": "execute_result"
    }
   ],
   "source": [
    "old_column_names = index_reset_df.columns.to_list()\n",
    "new_column_names = modified_df[modified_df.columns[0]].to_list()\n",
    "units = modified_df['hourly_units'].to_list()\n",
    "col_dict = {}\n",
    "for old, new, unit in zip(old_column_names, new_column_names, units):\n",
    "    col_dict[old] = f\"{new} ({unit})\"\n",
    "renamed_columns_df = index_reset_df.rename(columns=col_dict)\n",
    "renamed_columns_df"
   ]
  },
  {
   "cell_type": "markdown",
   "id": "463f8452",
   "metadata": {},
   "source": [
    "Adjust column data types"
   ]
  },
  {
   "cell_type": "code",
   "execution_count": null,
   "id": "29590612",
   "metadata": {},
   "outputs": [
    {
     "name": "stdout",
     "output_type": "stream",
     "text": [
      "<class 'pandas.core.frame.DataFrame'>\n",
      "RangeIndex: 168 entries, 0 to 167\n",
      "Data columns (total 2 columns):\n",
      " #   Column               Non-Null Count  Dtype         \n",
      "---  ------               --------------  -----         \n",
      " 0   time (iso8601)       168 non-null    datetime64[ns]\n",
      " 1   temperature_2m (°C)  168 non-null    float64       \n",
      "dtypes: datetime64[ns](1), float64(1)\n",
      "memory usage: 2.8 KB\n"
     ]
    }
   ],
   "source": [
    "types_dict = {}\n",
    "for col in renamed_columns_df.columns:\n",
    "    types_dict[col] = 'datetime64[ns]' if 'time' in col.lower() else 'float64'\n",
    "type_cast_df = renamed_columns_df.astype(types_dict)\n",
    "type_cast_df.info()"
   ]
  }
 ],
 "metadata": {
  "kernelspec": {
   "display_name": ".myenv",
   "language": "python",
   "name": "python3"
  },
  "language_info": {
   "codemirror_mode": {
    "name": "ipython",
    "version": 3
   },
   "file_extension": ".py",
   "mimetype": "text/x-python",
   "name": "python",
   "nbconvert_exporter": "python",
   "pygments_lexer": "ipython3",
   "version": "3.11.2"
  }
 },
 "nbformat": 4,
 "nbformat_minor": 5
}
